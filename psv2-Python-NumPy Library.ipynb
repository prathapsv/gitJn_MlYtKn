{
 "cells": [
  {
   "cell_type": "markdown",
   "metadata": {},
   "source": [
    "# NumPy (high perf-multi-dimensional-array-object and processing)"
   ]
  },
  {
   "cell_type": "code",
   "execution_count": null,
   "metadata": {},
   "outputs": [],
   "source": [
    "# pip install numpy # cmd prompt\n",
    "# conda install numpy # for conda"
   ]
  },
  {
   "cell_type": "code",
   "execution_count": 2,
   "metadata": {},
   "outputs": [],
   "source": [
    "import numpy as np"
   ]
  },
  {
   "cell_type": "code",
   "execution_count": 9,
   "metadata": {},
   "outputs": [
    {
     "name": "stdout",
     "output_type": "stream",
     "text": [
      "[1 2 3 4 5]\n",
      "<class 'list'>\n",
      "<class 'numpy.ndarray'>\n",
      "(5,)\n"
     ]
    }
   ],
   "source": [
    "lst=[1,2,3,4,5]\n",
    "arr=np.array(lst)\n",
    "print(arr)\n",
    "print(type(lst))\n",
    "print(type(arr))\n",
    "print(arr.shape)"
   ]
  },
  {
   "cell_type": "markdown",
   "metadata": {},
   "source": [
    "# Multi-Dimensions of array (indexing/creation/assignment)"
   ]
  },
  {
   "cell_type": "markdown",
   "metadata": {},
   "source": [
    "# Creating Arrays(1-2-3-multi-dim-arr)"
   ]
  },
  {
   "cell_type": "code",
   "execution_count": 3,
   "metadata": {},
   "outputs": [
    {
     "name": "stdout",
     "output_type": "stream",
     "text": [
      "-----------------------------------------one-dim-arr\n",
      "[1 2 3 4 5]\n",
      "-----------------------------------------two-dim-arr\n",
      "[[ 1  2  3  4  5]\n",
      " [ 6  7  8  9 10]\n",
      " [11 12 13 14 15]]\n",
      "-----------------------------------------three-dim-arr\n",
      "[[[0. 0. 0. 0.]\n",
      "  [0. 0. 0. 0.]\n",
      "  [0. 0. 0. 0.]]\n",
      "\n",
      " [[0. 0. 0. 0.]\n",
      "  [0. 0. 0. 0.]\n",
      "  [0. 0. 0. 0.]]]\n",
      "-----------------------------------------FOUR-dim-arr AND SO ON...\n",
      "[[[[0. 0. 0. 0. 0.]\n",
      "   [0. 0. 0. 0. 0.]\n",
      "   [0. 0. 0. 0. 0.]\n",
      "   [0. 0. 0. 0. 0.]]\n",
      "\n",
      "  [[0. 0. 0. 0. 0.]\n",
      "   [0. 0. 0. 0. 0.]\n",
      "   [0. 0. 0. 0. 0.]\n",
      "   [0. 0. 0. 0. 0.]]\n",
      "\n",
      "  [[0. 0. 0. 0. 0.]\n",
      "   [0. 0. 0. 0. 0.]\n",
      "   [0. 0. 0. 0. 0.]\n",
      "   [0. 0. 0. 0. 0.]]]\n",
      "\n",
      "\n",
      " [[[0. 0. 0. 0. 0.]\n",
      "   [0. 0. 0. 0. 0.]\n",
      "   [0. 0. 0. 0. 0.]\n",
      "   [0. 0. 0. 0. 0.]]\n",
      "\n",
      "  [[0. 0. 0. 0. 0.]\n",
      "   [0. 0. 0. 0. 0.]\n",
      "   [0. 0. 0. 0. 0.]\n",
      "   [0. 0. 0. 0. 0.]]\n",
      "\n",
      "  [[0. 0. 0. 0. 0.]\n",
      "   [0. 0. 0. 0. 0.]\n",
      "   [0. 0. 0. 0. 0.]\n",
      "   [0. 0. 0. 0. 0.]]]]\n",
      "-----------------------------------------USING arrange for arr creation\n",
      "[0 1 2 3 4 5 6 7 8 9]\n",
      "[0 2 4 6 8]\n",
      "-----------------------------------------USING linspace with 50 data points for 0-10 range, n doing arr creation\n",
      "[ 0.          0.20408163  0.40816327  0.6122449   0.81632653  1.02040816\n",
      "  1.2244898   1.42857143  1.63265306  1.83673469  2.04081633  2.24489796\n",
      "  2.44897959  2.65306122  2.85714286  3.06122449  3.26530612  3.46938776\n",
      "  3.67346939  3.87755102  4.08163265  4.28571429  4.48979592  4.69387755\n",
      "  4.89795918  5.10204082  5.30612245  5.51020408  5.71428571  5.91836735\n",
      "  6.12244898  6.32653061  6.53061224  6.73469388  6.93877551  7.14285714\n",
      "  7.34693878  7.55102041  7.75510204  7.95918367  8.16326531  8.36734694\n",
      "  8.57142857  8.7755102   8.97959184  9.18367347  9.3877551   9.59183673\n",
      "  9.79591837 10.        ]\n"
     ]
    }
   ],
   "source": [
    "# 1 dim\n",
    "print('-----------------------------------------one-dim-arr')\n",
    "lst=[1,2,3,4,5]\n",
    "arr=np.array(lst)\n",
    "print(arr)\n",
    "print('-----------------------------------------two-dim-arr')\n",
    "lst111=[1,2,3,4,5]\n",
    "lst112=[6,7,8,9,10]\n",
    "lst113=[11,12,13,14,15]\n",
    "mArr=np.array([lst111,lst112,lst113])\n",
    "print(mArr)\n",
    "print('-----------------------------------------three-dim-arr')\n",
    "mArr=np.zeros((2,3,4))\n",
    "print(mArr)\n",
    "print('-----------------------------------------FOUR-dim-arr AND SO ON...')\n",
    "mArr=np.zeros((2,3,4,5))\n",
    "print(mArr)\n",
    "print('-----------------------------------------USING arrange for arr creation')\n",
    "newArr=np.arange(0,10)\n",
    "print(newArr)\n",
    "newArr=np.arange(0,10,2)\n",
    "print(newArr)\n",
    "print('-----------------------------------------USING linspace with 50 data points for 0-10 range, n doing arr creation')\n",
    "newArr=np.linspace(0,10,50)\n",
    "print(newArr)"
   ]
  },
  {
   "cell_type": "markdown",
   "metadata": {},
   "source": [
    "## Two Dimensional Array"
   ]
  },
  {
   "cell_type": "code",
   "execution_count": 25,
   "metadata": {},
   "outputs": [
    {
     "name": "stdout",
     "output_type": "stream",
     "text": [
      "[[ 1  2  3  4  5]\n",
      " [ 6  7  8  9 10]\n",
      " [11 12 13 14 15]]\n",
      "(3, 5)\n",
      "15\n",
      "[[ 1  2  3]\n",
      " [ 4  5  6]\n",
      " [ 7  8  9]\n",
      " [10 11 12]\n",
      " [13 14 15]]\n",
      "(5, 3)\n",
      "15\n",
      " # indexing multi-d array/ normal arr\n",
      "[4 5 6]\n",
      "6\n",
      "[[ 1  2  3]\n",
      " [ 4  5  6]\n",
      " [ 7  8  9]\n",
      " [10 11 12]\n",
      " [13 14 15]]\n",
      "[[4 5 6]\n",
      " [7 8 9]]\n",
      "2\n"
     ]
    }
   ],
   "source": [
    "# dimensions of array\n",
    "lst1=[1,2,3,4,5]\n",
    "lst2=[6,7,8,9,10]\n",
    "lst3=[11,12,13,14,15]\n",
    "mArr=np.array([lst1,lst2,lst3])\n",
    "print(mArr)\n",
    "print(mArr.shape) # 3 rows, 5 cols\n",
    "print(mArr.size)\n",
    "reshapedArr=mArr.reshape(5,3)\n",
    "# mArr.reshape(5,4) # not possible since no. of elements(20) is more than size of the array(15)\n",
    "print(reshapedArr)\n",
    "print(reshapedArr.shape) # 5 rows, 3 cols\n",
    "print(reshapedArr.size)"
   ]
  },
  {
   "cell_type": "markdown",
   "metadata": {},
   "source": [
    "## indexing in multi-d/normal-array"
   ]
  },
  {
   "cell_type": "code",
   "execution_count": 58,
   "metadata": {},
   "outputs": [
    {
     "name": "stdout",
     "output_type": "stream",
     "text": [
      " # indexing multi-d array/ normal arr\n",
      "[[ 1  2  3  4  5]\n",
      " [ 6  7  8  9 10]\n",
      " [11 12 13 14 15]]\n",
      "[ 6  7  8  9 10]\n",
      "8\n",
      "2\n",
      "[[ 1  2  3  4  5]\n",
      " [ 6  7  8  9 10]\n",
      " [11 12 13 14 15]]\n",
      "[[ 1  2  3  4  5]\n",
      " [ 6  7  8  9 10]]\n",
      "printing full array\n",
      "[[ 1  2  3  4  5]\n",
      " [ 6  7  8  9 10]\n",
      " [11 12 13 14 15]]\n",
      " # rowwise,colwise selection format(left side => rows , right side=> cols mArr[0:2,:] n mArr[0:2,1:3]\n",
      "#### -----------------------------------------------mArr[0:2,:]\n",
      "[[ 1  2  3  4  5]\n",
      " [ 6  7  8  9 10]]\n",
      "##### ----------------------------------------------- mArr[0:2,1:3]\n",
      "[[2 3]\n",
      " [7 8]]\n",
      "#### ----------------------------------------------- mArr[1:,:4]\n",
      "[[ 6  7  8  9]\n",
      " [11 12 13 14]]\n",
      "#### ----------------------------------------------- mArr[1:,3:5]\n",
      "[[ 9 10]\n",
      " [14 15]]\n",
      "-----------------------------------------------mArr[1:2,1:4] n mArr[1:,2:4]---------- assignment 7 8 9, 8,9 n 13,14\n",
      "[[7 8 9]]\n",
      "[[ 8  9]\n",
      " [13 14]]\n"
     ]
    }
   ],
   "source": [
    "\n",
    "print(' # indexing multi-d array/ normal arr')\n",
    "print(mArr)\n",
    "print(mArr[1])\n",
    "print(mArr[1][2])\n",
    "print(mArr[0,1])\n",
    "print(mArr[:,:])\n",
    "print(mArr[0:2])\n",
    "print('printing full array')\n",
    "print(mArr[:,:])\n",
    "print(' # rowwise,colwise selection format(left side => rows , right side=> cols mArr[0:2,:] n mArr[0:2,1:3]')\n",
    "print('#### -----------------------------------------------mArr[0:2,:]')\n",
    "print(mArr[0:2,:])\n",
    "print('##### ----------------------------------------------- mArr[0:2,1:3]')\n",
    "print(mArr[0:2,1:3]) # rowwise,colwise selection format(left side => rows , right side=> cols)\n",
    "print('#### ----------------------------------------------- mArr[1:,:4]')\n",
    "print(mArr[1:,:4]) \n",
    "print('#### ----------------------------------------------- mArr[1:,3:5]')\n",
    "print(mArr[1:,3:5]) \n",
    "print('-----------------------------------------------mArr[1:2,1:4] n mArr[1:,2:4]---------- assignment 7 8 9, 8,9 n 13,14') \n",
    "print(mArr[1:2,1:4])\n",
    "print(mArr[1:,2:4])\n"
   ]
  },
  {
   "cell_type": "markdown",
   "metadata": {},
   "source": [
    "## Updating two-dimensional-arr values(similar for multi-d-arr)"
   ]
  },
  {
   "cell_type": "code",
   "execution_count": 63,
   "metadata": {},
   "outputs": [
    {
     "name": "stdout",
     "output_type": "stream",
     "text": [
      "[[ 1  2  3  4]\n",
      " [ 5  6  7  8]\n",
      " [ 9 10 11 12]]\n",
      "------------------------------------------------------------updating arr\n",
      "[[13 14 15 16]\n",
      " [ 5  6  7  8]\n",
      " [ 9 10 11 12]]\n",
      "-----------------------------------------------------\n",
      "[[13 14 15 16]\n",
      " [ 5  6  7 55]\n",
      " [ 9 10 11 12]]\n"
     ]
    }
   ],
   "source": [
    "lst4=[1,2,3,4]\n",
    "lst5=[5,6,7,8]\n",
    "lst6=[9,10,11,12]\n",
    "updateArr=np.array([lst4,lst5,lst6])\n",
    "print(updateArr)\n",
    "# updating arr\n",
    "print('------------------------------------------------------------updating arr')\n",
    "updateArr[0]=[13,14,15,16]\n",
    "print(updateArr)\n",
    "print('-----------------------------------------------------')\n",
    "updateArr[1][3]=55\n",
    "print(updateArr)"
   ]
  },
  {
   "cell_type": "markdown",
   "metadata": {},
   "source": [
    "## three dimensional array"
   ]
  },
  {
   "cell_type": "code",
   "execution_count": 112,
   "metadata": {},
   "outputs": [
    {
     "name": "stdout",
     "output_type": "stream",
     "text": [
      "[[[0, 1, 2, 3, 4], [10, 11, 12, 13, 14], [20, 21, 22, 23, 24], [30, 31, 32, 33, 34]], [[10, 11, 12, 13, 14], [110, 111, 112, 113, 114], [120, 121, 122, 123, 124], [130, 131, 132, 133, 134]]]\n",
      "[[[0. 0. 0. 0. 0.]\n",
      "  [0. 0. 0. 0. 0.]\n",
      "  [0. 0. 0. 0. 0.]\n",
      "  [0. 0. 0. 0. 0.]]\n",
      "\n",
      " [[0. 0. 0. 0. 0.]\n",
      "  [0. 0. 0. 0. 0.]\n",
      "  [0. 0. 0. 0. 0.]\n",
      "  [0. 0. 0. 0. 0.]]\n",
      "\n",
      " [[0. 0. 0. 0. 0.]\n",
      "  [0. 0. 0. 0. 0.]\n",
      "  [0. 0. 0. 0. 0.]\n",
      "  [0. 0. 0. 0. 0.]]]\n",
      "-----------------can use ones fn to create arr with values as 1 and data type as int, default is float\n",
      "[[[1 1 1 1 1]\n",
      "  [1 1 1 1 1]\n",
      "  [1 1 1 1 1]\n",
      "  [1 1 1 1 1]]\n",
      "\n",
      " [[1 1 1 1 1]\n",
      "  [1 1 1 1 1]\n",
      "  [1 1 1 1 1]\n",
      "  [1 1 1 1 1]]\n",
      "\n",
      " [[1 1 1 1 1]\n",
      "  [1 1 1 1 1]\n",
      "  [1 1 1 1 1]\n",
      "  [1 1 1 1 1]]]\n"
     ]
    }
   ],
   "source": [
    "threeDArr=[\n",
    "    [\n",
    "   [0,1,2,3,4],\n",
    "   [10,11,12,13,14],\n",
    "   [20,21,22,23,24],\n",
    "   [30,31,32,33,34],\n",
    "    ],\n",
    "    [\n",
    "   [10,11,12,13,14],\n",
    "   [110,111,112,113,114],\n",
    "   [120,121,122,123,124],\n",
    "   [130,131,132,133,134],\n",
    "    ],\n",
    "]\n",
    "\n",
    "print(threeDArr) # manual creation\n",
    "\n",
    "tdArr=np.zeros((3,4,5)) # built in np func creates mult-dim-arr..3d\n",
    "print(tdArr)\n",
    "\n",
    "print('-----------------can use ones fn to create arr with values as 1 and data type as int, default is float')\n",
    "tdArr=np.ones((3,4,5),dtype=int) # built in np func creates mult-dim-arr..3d\n",
    "print(tdArr)\n",
    "\n"
   ]
  },
  {
   "cell_type": "markdown",
   "metadata": {},
   "source": [
    "## 4-dimensional-array"
   ]
  },
  {
   "cell_type": "code",
   "execution_count": 113,
   "metadata": {
    "scrolled": true
   },
   "outputs": [
    {
     "name": "stdout",
     "output_type": "stream",
     "text": [
      "[[[[0. 0. 0. 0. 0.]\n",
      "   [0. 0. 0. 0. 0.]\n",
      "   [0. 0. 0. 0. 0.]\n",
      "   [0. 0. 0. 0. 0.]]\n",
      "\n",
      "  [[0. 0. 0. 0. 0.]\n",
      "   [0. 0. 0. 0. 0.]\n",
      "   [0. 0. 0. 0. 0.]\n",
      "   [0. 0. 0. 0. 0.]]\n",
      "\n",
      "  [[0. 0. 0. 0. 0.]\n",
      "   [0. 0. 0. 0. 0.]\n",
      "   [0. 0. 0. 0. 0.]\n",
      "   [0. 0. 0. 0. 0.]]]\n",
      "\n",
      "\n",
      " [[[0. 0. 0. 0. 0.]\n",
      "   [0. 0. 0. 0. 0.]\n",
      "   [0. 0. 0. 0. 0.]\n",
      "   [0. 0. 0. 0. 0.]]\n",
      "\n",
      "  [[0. 0. 0. 0. 0.]\n",
      "   [0. 0. 0. 0. 0.]\n",
      "   [0. 0. 0. 0. 0.]\n",
      "   [0. 0. 0. 0. 0.]]\n",
      "\n",
      "  [[0. 0. 0. 0. 0.]\n",
      "   [0. 0. 0. 0. 0.]\n",
      "   [0. 0. 0. 0. 0.]\n",
      "   [0. 0. 0. 0. 0.]]]]\n",
      "-----------------can use ones fn to create arr with values as 1 and data type as int, default is float\n",
      "[[[[1 1 1 1 1]\n",
      "   [1 1 1 1 1]\n",
      "   [1 1 1 1 1]\n",
      "   [1 1 1 1 1]]\n",
      "\n",
      "  [[1 1 1 1 1]\n",
      "   [1 1 1 1 1]\n",
      "   [1 1 1 1 1]\n",
      "   [1 1 1 1 1]]\n",
      "\n",
      "  [[1 1 1 1 1]\n",
      "   [1 1 1 1 1]\n",
      "   [1 1 1 1 1]\n",
      "   [1 1 1 1 1]]]\n",
      "\n",
      "\n",
      " [[[1 1 1 1 1]\n",
      "   [1 1 1 1 1]\n",
      "   [1 1 1 1 1]\n",
      "   [1 1 1 1 1]]\n",
      "\n",
      "  [[1 1 1 1 1]\n",
      "   [1 1 1 1 1]\n",
      "   [1 1 1 1 1]\n",
      "   [1 1 1 1 1]]\n",
      "\n",
      "  [[1 1 1 1 1]\n",
      "   [1 1 1 1 1]\n",
      "   [1 1 1 1 1]\n",
      "   [1 1 1 1 1]]]]\n"
     ]
    }
   ],
   "source": [
    "fourdArr=np.zeros((2,3,4,5)) # built in np func creates mult-dim-arr..4d\n",
    "print(fourdArr)\n",
    "\n",
    "\n",
    "print('-----------------can use ones fn to create arr with values as 1 and data type as int, default is float')\n",
    "fourdArr=np.ones((2,3,4,5),dtype=int) # built in np func creates mult-dim-arr..3d\n",
    "print(fourdArr)"
   ]
  },
  {
   "cell_type": "markdown",
   "metadata": {},
   "source": [
    "# copy function and broadcasting- m-d-arr"
   ]
  },
  {
   "cell_type": "markdown",
   "metadata": {},
   "source": [
    "#### arrays are basically reference types, if we are copying one array to another simply by assigning the objects , then whatever\n",
    "#### the values updated in the latest object will be updated to the original array as well, thus we are using np's copy funtion\n",
    "#### to keep a separate copy(similar to the deep copy concept in .net)"
   ]
  },
  {
   "cell_type": "code",
   "execution_count": 110,
   "metadata": {},
   "outputs": [
    {
     "name": "stdout",
     "output_type": "stream",
     "text": [
      "[0 1 2 3 4 5 6 7 8 9]\n",
      "[ 0  1  2  3 75 75 75 75 75 75]\n",
      "---------------------------------new array copying by reference.\n",
      "[ 0  1  2  3 75 75 75 75 75 75]\n",
      "[ 0  1  2  3 75 75 75 75 75 75]\n",
      "--------------------------------arr2[4:]=45-after the value update to arr2, automatically updtes arr1 as its ref type..\n",
      "[ 0  1  2  3 45 45 45 45 45 45]\n",
      "[ 0  1  2  3 45 45 45 45 45 45]\n",
      "---------------------------------using copy function to create a deep copy of the object--arr3 after copy.\n",
      "[ 0  1  2  3 45 45 45 45 45 45]\n",
      "--------------------------------arr3[4:]=33-after the value update to arr3,which do not updates arr2 as its deepcopy..\n",
      "[ 0  1  2  3 33 33 33 33 33 33]\n",
      "---------------------------------------arr2 not changed\n",
      "[ 0  1  2  3 45 45 45 45 45 45]\n"
     ]
    }
   ],
   "source": [
    "# assigning values can be done in one shot using indexing technique.\n",
    "arr1=np.arange(0,10)\n",
    "print(arr1)\n",
    "arr1[4:]=75 # assigns 75 value to all the array elements starting from the 4th index.\n",
    "print(arr1)\n",
    "print('---------------------------------new array copying by reference.')\n",
    "# new array copying by reference.\n",
    "arr2=arr1;\n",
    "print(arr2)\n",
    "print(arr1)\n",
    "arr2[4:]=45\n",
    "print('--------------------------------arr2[4:]=45-after the value update to arr2, automatically updtes arr1 as its ref type..')\n",
    "print(arr2)\n",
    "print(arr1)\n",
    "print('---------------------------------using copy function to create a deep copy of the object--arr3 after copy.')\n",
    "arr3=np.copy(arr2)\n",
    "print(arr3)\n",
    "arr3[4:]=33\n",
    "print('--------------------------------arr3[4:]=33-after the value update to arr3,which do not updates arr2 as its deepcopy..')\n",
    "print(arr3)\n",
    "print('---------------------------------------arr2 not changed')\n",
    "print(arr2)"
   ]
  },
  {
   "cell_type": "markdown",
   "metadata": {},
   "source": [
    "# Functions useful in Exploratory Data Analysis(EDA)"
   ]
  },
  {
   "cell_type": "code",
   "execution_count": 135,
   "metadata": {},
   "outputs": [
    {
     "name": "stdout",
     "output_type": "stream",
     "text": [
      "------------------applies operations to all the elements\n",
      "[ True  True  True  True False False False False False False]\n",
      "[ 0  3  6  9 99 99 99 99 99 99]\n",
      "[0 1 0 1 1 1 1 1 1 1]\n",
      "[0.   0.05 0.1  0.15 1.65 1.65 1.65 1.65 1.65 1.65]\n",
      "[False False False False  True  True  True  True  True  True]\n",
      "[ True  True  True  True False False False False False False]\n",
      "------------------returns only then indexes of elements which matches the conditions\n",
      "[0 1 2 3]\n"
     ]
    }
   ],
   "source": [
    "# functions which applies on entire multi-dim-arr\n",
    "print('------------------applies operations to all the elements')\n",
    "print(arr3<5)\n",
    "print(arr3*3)\n",
    "print(arr3%2)\n",
    "print(arr3/20)\n",
    "print(arr3==33)\n",
    "print(arr3!=33)\n",
    "print('------------------returns only the indexes of elements which matches the conditions')\n",
    "print(arr3[arr3<5])\n",
    "np..random()"
   ]
  },
  {
   "cell_type": "markdown",
   "metadata": {},
   "source": [
    "# random distribution/ standard normal distribution"
   ]
  },
  {
   "cell_type": "code",
   "execution_count": 10,
   "metadata": {},
   "outputs": [
    {
     "name": "stdout",
     "output_type": "stream",
     "text": [
      "-----------------------------------------------generates an 2-d/multi-d arr with randomly generated values betwenn 0-1\n",
      "[[0.96455978 0.71768204 0.84905606]\n",
      " [0.21784822 0.23558206 0.32330743]\n",
      " [0.30545233 0.78451599 0.04965228]]\n",
      "----------------------------------------------------generates an 2-d arr/multi-d with from the std normal distribution\n",
      "[[ 0.54230621 -1.18886073 -1.16771419  1.22169209]\n",
      " [ 1.55093351 -0.13518651  0.47768158  0.06924603]\n",
      " [ 0.56346465 -0.18591247 -1.05113405  1.22763501]\n",
      " [ 0.11807115 -1.62736579 -0.88844178  0.08234832]]\n",
      "----------------------------------------------------generates n random numbers between the range\n",
      "[39 59 61 42 81  9 19 58 11 98]\n",
      "[[63  2]\n",
      " [ 3 64]\n",
      " [32 21]\n",
      " [85 63]\n",
      " [ 8 90]]\n",
      "----------------------------------------------------generates n numbers between the range\n",
      "[[0.3925378  0.83023384 0.28755786 0.78474427 0.04684008 0.51261385\n",
      "  0.18658153 0.12297258 0.72635674 0.06703156]]\n",
      "[[0.34706397 0.07580014]\n",
      " [0.23485153 0.45197629]\n",
      " [0.73854803 0.16900446]\n",
      " [0.85001674 0.63806042]\n",
      " [0.76628156 0.51038612]]\n"
     ]
    }
   ],
   "source": [
    "print('-----------------------------------------------generates an 2-d/multi-d arr with randomly generated values betwenn 0-1')\n",
    "print(np.random.rand(3,3)) # generates an 2-d arr with randomly generated values betwenn 0-1\n",
    "\n",
    "print('----------------------------------------------------generates an 2-d arr/multi-d with from the std normal distribution')\n",
    "print(np.random.randn(4,4))\n",
    "\n",
    "print('----------------------------------------------------generates n random numbers between the range')\n",
    "print(np.random.randint(1,100,10))\n",
    "print(np.random.randint(1,100,10).reshape(5,2))\n",
    "\n",
    "print('----------------------------------------------------generates n numbers between the range')\n",
    "print(np.random.random_sample((1,10)))\n",
    "print(np.random.random_sample((1,10)).reshape(5,2))"
   ]
  },
  {
   "cell_type": "markdown",
   "metadata": {},
   "source": [
    "### SeaBorn and Pandas to just show the graph for SNS (core reference in other tpcs )"
   ]
  },
  {
   "cell_type": "code",
   "execution_count": 7,
   "metadata": {},
   "outputs": [
    {
     "name": "stdout",
     "output_type": "stream",
     "text": [
      "[[ 1.87890027 -0.52506711 -0.10944413 -0.47115004]\n",
      " [-0.23828311  0.76924989  0.41557537 -0.10620509]\n",
      " [ 0.71739715  1.80276622 -0.05789301 -0.11852511]\n",
      " [-1.70087126  0.7810842   1.61230214 -1.22361576]]\n"
     ]
    },
    {
     "data": {
      "text/plain": [
       "<matplotlib.axes._subplots.AxesSubplot at 0x24c3aa17ba8>"
      ]
     },
     "execution_count": 7,
     "metadata": {},
     "output_type": "execute_result"
    },
    {
     "data": {
      "image/png": "[encoded data removed]",
      "text/plain": [
       "<Figure size 432x288 with 1 Axes>"
      ]
     },
     "metadata": {
      "needs_background": "light"
     },
     "output_type": "display_data"
    }
   ],
   "source": [
    "import seaborn as sns\n",
    "import pandas as pd\n",
    "arr4sns=np.random.randn(4,4)\n",
    "print(arr4sns)\n",
    "sns.distplot(pd.DataFrame(arr4sns.reshape(16,1)))"
   ]
  }
 ],
 "metadata": {
  "kernelspec": {
   "display_name": "Python 3",
   "language": "python",
   "name": "python3"
  },
  "language_info": {
   "codemirror_mode": {
    "name": "ipython",
    "version": 3
   },
   "file_extension": ".py",
   "mimetype": "text/x-python",
   "name": "python",
   "nbconvert_exporter": "python",
   "pygments_lexer": "ipython3",
   "version": "3.7.1"
  }
 },
 "nbformat": 4,
 "nbformat_minor": 2
}
