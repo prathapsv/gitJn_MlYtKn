{
 "cells": [
  {
   "cell_type": "markdown",
   "metadata": {},
   "source": [
    "# Pandas-Read Pickle,Excel,Json,Html\n"
   ]
  },
  {
   "cell_type": "code",
   "execution_count": 3,
   "metadata": {},
   "outputs": [],
   "source": [
    "import pandas as pd\n",
    "import numpy as np"
   ]
  },
  {
   "cell_type": "markdown",
   "metadata": {},
   "source": [
    "### Reading Json in Pandas"
   ]
  },
  {
   "cell_type": "code",
   "execution_count": 79,
   "metadata": {},
   "outputs": [
    {
     "name": "stdout",
     "output_type": "stream",
     "text": [
      "<class 'str'>\n"
     ]
    }
   ],
   "source": [
    "jsonData = '{\"Name\": \"Robert\", \"Age\": \"asdf\", \"email\": \"robert@gmail.com\", \"jobProfile\": [{\"Title\":\"Team Lead\"}]}'\n",
    "print(type(jsonData))\n",
    "simpleDF=pd.read_json(jsonData)"
   ]
  },
  {
   "cell_type": "code",
   "execution_count": 81,
   "metadata": {},
   "outputs": [
    {
     "name": "stdout",
     "output_type": "stream",
     "text": [
      "<class 'str'>\n"
     ]
    },
    {
     "data": {
      "text/html": [
       "<div>\n",
       "<style scoped>\n",
       "    .dataframe tbody tr th:only-of-type {\n",
       "        vertical-align: middle;\n",
       "    }\n",
       "\n",
       "    .dataframe tbody tr th {\n",
       "        vertical-align: top;\n",
       "    }\n",
       "\n",
       "    .dataframe thead th {\n",
       "        text-align: right;\n",
       "    }\n",
       "</style>\n",
       "<table border=\"1\" class=\"dataframe\">\n",
       "  <thead>\n",
       "    <tr style=\"text-align: right;\">\n",
       "      <th></th>\n",
       "      <th>Age</th>\n",
       "      <th>Name</th>\n",
       "      <th>email</th>\n",
       "    </tr>\n",
       "  </thead>\n",
       "  <tbody>\n",
       "    <tr>\n",
       "      <th>0</th>\n",
       "      <td>asdf</td>\n",
       "      <td>Robert</td>\n",
       "      <td>robert@gmail.com</td>\n",
       "    </tr>\n",
       "    <tr>\n",
       "      <th>1</th>\n",
       "      <td>asdf2</td>\n",
       "      <td>Robert2</td>\n",
       "      <td>robert2@gmail.com</td>\n",
       "    </tr>\n",
       "  </tbody>\n",
       "</table>\n",
       "</div>"
      ],
      "text/plain": [
       "     Age     Name              email\n",
       "0   asdf   Robert   robert@gmail.com\n",
       "1  asdf2  Robert2  robert2@gmail.com"
      ]
     },
     "execution_count": 81,
     "metadata": {},
     "output_type": "execute_result"
    }
   ],
   "source": [
    "jsonData = '[{\"Name\": \"Robert\", \"Age\": \"asdf\", \"email\": \"robert@gmail.com\"},{\"Name\": \"Robert2\", \"Age\": \"asdf2\", \"email\": \"robert2@gmail.com\"}]'\n",
    "print(type(jsonData))\n",
    "simpleDF=pd.read_json(jsonData,)\n",
    "simpleDF\n",
    "# note above syntax n the current one, may be json str manipulation is required.."
   ]
  },
  {
   "cell_type": "code",
   "execution_count": 53,
   "metadata": {},
   "outputs": [],
   "source": [
    "# reading json from a url.. proxy doesn't allow so, using local file in next block\n",
    "# df=pd.read_csv('https://archive.ics.uci.edu/ml/machine-learning-databases/wine/wine.data', header=None)\n",
    "# URLError: <urlopen error [WinError 10054] An existing connection was forcibly closed by the remote host>\n",
    "#df=pd.read_json('https://tools.learningcontainer.com/sample-json-file.json')\n",
    "# df.head()"
   ]
  },
  {
   "cell_type": "code",
   "execution_count": 43,
   "metadata": {},
   "outputs": [
    {
     "data": {
      "text/html": [
       "<div>\n",
       "<style scoped>\n",
       "    .dataframe tbody tr th:only-of-type {\n",
       "        vertical-align: middle;\n",
       "    }\n",
       "\n",
       "    .dataframe tbody tr th {\n",
       "        vertical-align: top;\n",
       "    }\n",
       "\n",
       "    .dataframe thead th {\n",
       "        text-align: right;\n",
       "    }\n",
       "</style>\n",
       "<table border=\"1\" class=\"dataframe\">\n",
       "  <thead>\n",
       "    <tr style=\"text-align: right;\">\n",
       "      <th></th>\n",
       "      <th>0</th>\n",
       "      <th>1</th>\n",
       "      <th>2</th>\n",
       "      <th>3</th>\n",
       "      <th>4</th>\n",
       "      <th>5</th>\n",
       "      <th>6</th>\n",
       "      <th>7</th>\n",
       "      <th>8</th>\n",
       "      <th>9</th>\n",
       "      <th>10</th>\n",
       "      <th>11</th>\n",
       "      <th>12</th>\n",
       "      <th>13</th>\n",
       "    </tr>\n",
       "  </thead>\n",
       "  <tbody>\n",
       "    <tr>\n",
       "      <th>0</th>\n",
       "      <td>1</td>\n",
       "      <td>14.23</td>\n",
       "      <td>1.71</td>\n",
       "      <td>2.43</td>\n",
       "      <td>15.6</td>\n",
       "      <td>127</td>\n",
       "      <td>2.80</td>\n",
       "      <td>3.06</td>\n",
       "      <td>0.28</td>\n",
       "      <td>2.29</td>\n",
       "      <td>5.64</td>\n",
       "      <td>1.04</td>\n",
       "      <td>3.92</td>\n",
       "      <td>1065</td>\n",
       "    </tr>\n",
       "    <tr>\n",
       "      <th>1</th>\n",
       "      <td>1</td>\n",
       "      <td>13.20</td>\n",
       "      <td>1.78</td>\n",
       "      <td>2.14</td>\n",
       "      <td>11.2</td>\n",
       "      <td>100</td>\n",
       "      <td>2.65</td>\n",
       "      <td>2.76</td>\n",
       "      <td>0.26</td>\n",
       "      <td>1.28</td>\n",
       "      <td>4.38</td>\n",
       "      <td>1.05</td>\n",
       "      <td>3.40</td>\n",
       "      <td>1050</td>\n",
       "    </tr>\n",
       "    <tr>\n",
       "      <th>2</th>\n",
       "      <td>1</td>\n",
       "      <td>13.16</td>\n",
       "      <td>2.36</td>\n",
       "      <td>2.67</td>\n",
       "      <td>18.6</td>\n",
       "      <td>101</td>\n",
       "      <td>2.80</td>\n",
       "      <td>3.24</td>\n",
       "      <td>0.30</td>\n",
       "      <td>2.81</td>\n",
       "      <td>5.68</td>\n",
       "      <td>1.03</td>\n",
       "      <td>3.17</td>\n",
       "      <td>1185</td>\n",
       "    </tr>\n",
       "    <tr>\n",
       "      <th>3</th>\n",
       "      <td>1</td>\n",
       "      <td>14.37</td>\n",
       "      <td>1.95</td>\n",
       "      <td>2.50</td>\n",
       "      <td>16.8</td>\n",
       "      <td>113</td>\n",
       "      <td>3.85</td>\n",
       "      <td>3.49</td>\n",
       "      <td>0.24</td>\n",
       "      <td>2.18</td>\n",
       "      <td>7.80</td>\n",
       "      <td>0.86</td>\n",
       "      <td>3.45</td>\n",
       "      <td>1480</td>\n",
       "    </tr>\n",
       "    <tr>\n",
       "      <th>4</th>\n",
       "      <td>1</td>\n",
       "      <td>13.24</td>\n",
       "      <td>2.59</td>\n",
       "      <td>2.87</td>\n",
       "      <td>21.0</td>\n",
       "      <td>118</td>\n",
       "      <td>2.80</td>\n",
       "      <td>2.69</td>\n",
       "      <td>0.39</td>\n",
       "      <td>1.82</td>\n",
       "      <td>4.32</td>\n",
       "      <td>1.04</td>\n",
       "      <td>2.93</td>\n",
       "      <td>735</td>\n",
       "    </tr>\n",
       "  </tbody>\n",
       "</table>\n",
       "</div>"
      ],
      "text/plain": [
       "   0      1     2     3     4    5     6     7     8     9     10    11    12  \\\n",
       "0   1  14.23  1.71  2.43  15.6  127  2.80  3.06  0.28  2.29  5.64  1.04  3.92   \n",
       "1   1  13.20  1.78  2.14  11.2  100  2.65  2.76  0.26  1.28  4.38  1.05  3.40   \n",
       "2   1  13.16  2.36  2.67  18.6  101  2.80  3.24  0.30  2.81  5.68  1.03  3.17   \n",
       "3   1  14.37  1.95  2.50  16.8  113  3.85  3.49  0.24  2.18  7.80  0.86  3.45   \n",
       "4   1  13.24  2.59  2.87  21.0  118  2.80  2.69  0.39  1.82  4.32  1.04  2.93   \n",
       "\n",
       "     13  \n",
       "0  1065  \n",
       "1  1050  \n",
       "2  1185  \n",
       "3  1480  \n",
       "4   735  "
      ]
     },
     "execution_count": 43,
     "metadata": {},
     "output_type": "execute_result"
    }
   ],
   "source": [
    "df=pd.read_csv('E:\\\\SL\\\\ai\\\\test files\\\\wine.data', header=None)\n",
    "df.head()"
   ]
  },
  {
   "cell_type": "code",
   "execution_count": 44,
   "metadata": {},
   "outputs": [],
   "source": [
    "# json to csv conversion\n",
    "df.to_csv('E:\\\\SL\\\\ai\\\\test files\\\\wine.csv')"
   ]
  },
  {
   "cell_type": "code",
   "execution_count": 83,
   "metadata": {},
   "outputs": [
    {
     "name": "stdout",
     "output_type": "stream",
     "text": [
      "<class 'pandas.core.frame.DataFrame'>\n"
     ]
    },
    {
     "data": {
      "text/plain": [
       "'{\"Age\":{\"0\":\"asdf\",\"1\":\"asdf2\"},\"Name\":{\"0\":\"Robert\",\"1\":\"Robert2\"},\"email\":{\"0\":\"robert@gmail.com\",\"1\":\"robert2@gmail.com\"}}'"
      ]
     },
     "execution_count": 83,
     "metadata": {},
     "output_type": "execute_result"
    }
   ],
   "source": [
    "# csv to json conversion\n",
    "print(type(simpleDF))\n",
    "simpleDF.to_json() # by default it takes row index and column values to form json obj."
   ]
  },
  {
   "cell_type": "code",
   "execution_count": 82,
   "metadata": {},
   "outputs": [
    {
     "data": {
      "text/plain": [
       "'[{\"Age\":\"asdf\",\"Name\":\"Robert\",\"email\":\"robert@gmail.com\"},{\"Age\":\"asdf2\",\"Name\":\"Robert2\",\"email\":\"robert2@gmail.com\"}]'"
      ]
     },
     "execution_count": 82,
     "metadata": {},
     "output_type": "execute_result"
    }
   ],
   "source": [
    "simpleDF.to_json(orient=\"records\") # setting orient to records will create json obj record wise.."
   ]
  },
  {
   "cell_type": "markdown",
   "metadata": {},
   "source": [
    "### Reading Html in Pandas"
   ]
  },
  {
   "cell_type": "code",
   "execution_count": 106,
   "metadata": {},
   "outputs": [],
   "source": [
    "# url='https://www.fdic.gov/bank/individual/failed/banklist.html'\n",
    "# dfUrl=pd.read_html(url)\n",
    "# URLError: <urlopen error [WinError 10054] An existing connection was forcibly closed by the remote host>\n",
    "# so wil not work.."
   ]
  },
  {
   "cell_type": "code",
   "execution_count": 105,
   "metadata": {},
   "outputs": [
    {
     "name": "stdout",
     "output_type": "stream",
     "text": [
      "<class 'list'>\n",
      "                                            Bank Name                City  ST  \\\n",
      "0                    City National Bank of New Jersey              Newark  NJ   \n",
      "1                                       Resolute Bank              Maumee  OH   \n",
      "2                               Louisa Community Bank              Louisa  KY   \n",
      "3                                The Enloe State Bank              Cooper  TX   \n",
      "4                 Washington Federal Bank for Savings             Chicago  IL   \n",
      "5     The Farmers and Merchants State Bank of Argonia             Argonia  KS   \n",
      "6                                 Fayette County Bank          Saint Elmo  IL   \n",
      "7   Guaranty Bank, (d/b/a BestBank in Georgia & Mi...           Milwaukee  WI   \n",
      "8                                      First NBC Bank         New Orleans  LA   \n",
      "9                                       Proficio Bank  Cottonwood Heights  UT   \n",
      "10                      Seaway Bank and Trust Company             Chicago  IL   \n",
      "11                             Harvest Community Bank          Pennsville  NJ   \n",
      "12                                        Allied Bank            Mulberry  AR   \n",
      "13                       The Woodbury Banking Company            Woodbury  GA   \n",
      "14                             First CornerStone Bank     King of Prussia  PA   \n",
      "15                                 Trust Company Bank             Memphis  TN   \n",
      "16                         North Milwaukee State Bank           Milwaukee  WI   \n",
      "17                             Hometown National Bank            Longview  WA   \n",
      "18                                The Bank of Georgia      Peachtree City  GA   \n",
      "19                                       Premier Bank              Denver  CO   \n",
      "20                                     Edgebrook Bank             Chicago  IL   \n",
      "21                             Doral Bank  En Español            San Juan  PR   \n",
      "22                  Capitol City Bank & Trust Company             Atlanta  GA   \n",
      "23                            Highland Community Bank             Chicago  IL   \n",
      "24                   First National Bank of Crestview           Crestview  FL   \n",
      "\n",
      "     CERT                Acquiring Institution        Closing Date  \n",
      "0   21111                      Industrial Bank    November 1, 2019  \n",
      "1   58317                   Buckeye State Bank    October 25, 2019  \n",
      "2   58112    Kentucky Farmers Bank Corporation    October 25, 2019  \n",
      "3   10716                   Legend Bank, N. A.        May 31, 2019  \n",
      "4   30570                   Royal Savings Bank   December 15, 2017  \n",
      "5   17719                          Conway Bank    October 13, 2017  \n",
      "6    1802            United Fidelity Bank, fsb        May 26, 2017  \n",
      "7   30003  First-Citizens Bank & Trust Company         May 5, 2017  \n",
      "8   58302                         Whitney Bank      April 28, 2017  \n",
      "9   35495                    Cache Valley Bank       March 3, 2017  \n",
      "10  19328                  State Bank of Texas    January 27, 2017  \n",
      "11  34951  First-Citizens Bank & Trust Company    January 13, 2017  \n",
      "12     91                         Today's Bank  September 23, 2016  \n",
      "13  11297                          United Bank     August 19, 2016  \n",
      "14  35312  First-Citizens Bank & Trust Company         May 6, 2016  \n",
      "15   9956           The Bank of Fayette County      April 29, 2016  \n",
      "16  20364  First-Citizens Bank & Trust Company      March 11, 2016  \n",
      "17  35156                       Twin City Bank     October 2, 2015  \n",
      "18  35259                        Fidelity Bank     October 2, 2015  \n",
      "19  34112            United Fidelity Bank, fsb       July 10, 2015  \n",
      "20  57772             Republic Bank of Chicago         May 8, 2015  \n",
      "21  32102         Banco Popular de Puerto Rico   February 27, 2015  \n",
      "22  33938  First-Citizens Bank & Trust Company   February 13, 2015  \n",
      "23  20290            United Fidelity Bank, fsb    January 23, 2015  \n",
      "24  17557                       First NBC Bank    January 16, 2015  \n"
     ]
    }
   ],
   "source": [
    "url='E:\\\\SL\\\\ai\\\\sample data files\\\\local html file\\\\FDIC_ Failed Bank List.html'\n",
    "dfUrl=pd.read_html(url, match='Bank Name' , header=0)\n",
    "print(type(dfUrl))\n",
    "print(dfUrl[0])"
   ]
  },
  {
   "cell_type": "markdown",
   "metadata": {},
   "source": [
    "### Reading Excel and converting data frame to excel in Pandas"
   ]
  },
  {
   "cell_type": "code",
   "execution_count": 107,
   "metadata": {},
   "outputs": [],
   "source": [
    "# just using read_excel and to_excel\n",
    "simpleDF.to_excel('E:\\\\SL\\\\ai\\\\test files\\\\simpleJson.xlsx')"
   ]
  },
  {
   "cell_type": "code",
   "execution_count": 109,
   "metadata": {},
   "outputs": [],
   "source": [
    "excelDF=pd.read_excel('E:\\\\SL\\\\ai\\\\test files\\\\simpleJson.xlsx')"
   ]
  },
  {
   "cell_type": "code",
   "execution_count": 110,
   "metadata": {},
   "outputs": [
    {
     "data": {
      "text/html": [
       "<div>\n",
       "<style scoped>\n",
       "    .dataframe tbody tr th:only-of-type {\n",
       "        vertical-align: middle;\n",
       "    }\n",
       "\n",
       "    .dataframe tbody tr th {\n",
       "        vertical-align: top;\n",
       "    }\n",
       "\n",
       "    .dataframe thead th {\n",
       "        text-align: right;\n",
       "    }\n",
       "</style>\n",
       "<table border=\"1\" class=\"dataframe\">\n",
       "  <thead>\n",
       "    <tr style=\"text-align: right;\">\n",
       "      <th></th>\n",
       "      <th>Age</th>\n",
       "      <th>Name</th>\n",
       "      <th>email</th>\n",
       "    </tr>\n",
       "  </thead>\n",
       "  <tbody>\n",
       "    <tr>\n",
       "      <th>0</th>\n",
       "      <td>asdf</td>\n",
       "      <td>Robert</td>\n",
       "      <td>robert@gmail.com</td>\n",
       "    </tr>\n",
       "    <tr>\n",
       "      <th>1</th>\n",
       "      <td>asdf2</td>\n",
       "      <td>Robert2</td>\n",
       "      <td>robert2@gmail.com</td>\n",
       "    </tr>\n",
       "  </tbody>\n",
       "</table>\n",
       "</div>"
      ],
      "text/plain": [
       "     Age     Name              email\n",
       "0   asdf   Robert   robert@gmail.com\n",
       "1  asdf2  Robert2  robert2@gmail.com"
      ]
     },
     "execution_count": 110,
     "metadata": {},
     "output_type": "execute_result"
    }
   ],
   "source": [
    "excelDF"
   ]
  },
  {
   "cell_type": "markdown",
   "metadata": {},
   "source": [
    "# Pickling (serializing an object and saving into file)"
   ]
  },
  {
   "cell_type": "markdown",
   "metadata": {},
   "source": [
    "### Reading Pickle and converting data frame to Pickle in Pandas(VVVIMP)"
   ]
  },
  {
   "cell_type": "markdown",
   "metadata": {},
   "source": [
    "#### All pandas objects are equipped with \"to_pickle\" methods which use Python's cPickle module to save data structures to disk  using pickle format and also, ML algos can be saved as pickle in most of the time."
   ]
  },
  {
   "cell_type": "code",
   "execution_count": 114,
   "metadata": {},
   "outputs": [],
   "source": [
    "excelDF.to_pickle('E:\\\\SL\\\\ai\\\\test files\\\\simplePickleFile')"
   ]
  },
  {
   "cell_type": "code",
   "execution_count": 116,
   "metadata": {},
   "outputs": [],
   "source": [
    "pickleDF=pd.read_pickle('E:\\\\SL\\\\ai\\\\test files\\\\simplePickleFile')"
   ]
  },
  {
   "cell_type": "code",
   "execution_count": 117,
   "metadata": {},
   "outputs": [
    {
     "data": {
      "text/html": [
       "<div>\n",
       "<style scoped>\n",
       "    .dataframe tbody tr th:only-of-type {\n",
       "        vertical-align: middle;\n",
       "    }\n",
       "\n",
       "    .dataframe tbody tr th {\n",
       "        vertical-align: top;\n",
       "    }\n",
       "\n",
       "    .dataframe thead th {\n",
       "        text-align: right;\n",
       "    }\n",
       "</style>\n",
       "<table border=\"1\" class=\"dataframe\">\n",
       "  <thead>\n",
       "    <tr style=\"text-align: right;\">\n",
       "      <th></th>\n",
       "      <th>Age</th>\n",
       "      <th>Name</th>\n",
       "      <th>email</th>\n",
       "    </tr>\n",
       "  </thead>\n",
       "  <tbody>\n",
       "    <tr>\n",
       "      <th>0</th>\n",
       "      <td>asdf</td>\n",
       "      <td>Robert</td>\n",
       "      <td>robert@gmail.com</td>\n",
       "    </tr>\n",
       "    <tr>\n",
       "      <th>1</th>\n",
       "      <td>asdf2</td>\n",
       "      <td>Robert2</td>\n",
       "      <td>robert2@gmail.com</td>\n",
       "    </tr>\n",
       "  </tbody>\n",
       "</table>\n",
       "</div>"
      ],
      "text/plain": [
       "     Age     Name              email\n",
       "0   asdf   Robert   robert@gmail.com\n",
       "1  asdf2  Robert2  robert2@gmail.com"
      ]
     },
     "execution_count": 117,
     "metadata": {},
     "output_type": "execute_result"
    }
   ],
   "source": [
    "pickleDF"
   ]
  },
  {
   "cell_type": "code",
   "execution_count": null,
   "metadata": {},
   "outputs": [],
   "source": []
  }
 ],
 "metadata": {
  "kernelspec": {
   "display_name": "Python 3",
   "language": "python",
   "name": "python3"
  },
  "language_info": {
   "codemirror_mode": {
    "name": "ipython",
    "version": 3
   },
   "file_extension": ".py",
   "mimetype": "text/x-python",
   "name": "python",
   "nbconvert_exporter": "python",
   "pygments_lexer": "ipython3",
   "version": "3.7.1"
  }
 },
 "nbformat": 4,
 "nbformat_minor": 2
}
