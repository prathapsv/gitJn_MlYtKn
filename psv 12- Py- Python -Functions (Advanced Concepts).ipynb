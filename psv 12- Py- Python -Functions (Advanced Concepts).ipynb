{
 "cells": [
  {
   "cell_type": "markdown",
   "metadata": {},
   "source": [
    "# Advanced concepts in Python"
   ]
  },
  {
   "cell_type": "markdown",
   "metadata": {},
   "source": [
    "### Functions in Python: (Similar to .Net Methods)\n",
    "    1. Uses \"def\" keyword to define a method. Syntax: def method_name(args): <= method definition.\n",
    "                                                        method code       <= method definition\n",
    "    2. Method params can have default values, similar to .net.\n",
    "        def PrintEmployee_Info(name, age='31'):\n",
    "            print(\"Employee name is {0} and age is {1}\".format(name,age))\n",
    "\n",
    "            Calling the method:\n",
    "                PrintEmployee_Info('Robert')\n",
    "                OR\n",
    "                PrintEmployee_Info('Robert',52)\n",
    "            \n",
    "In python, param without any default value (name arg) is referred as positional argument and param having \n",
    "default value (age arg) is refered as keyword argument.\n"
   ]
  },
  {
   "cell_type": "code",
   "execution_count": 1,
   "metadata": {},
   "outputs": [],
   "source": [
    "def PrintEmployee_Info(name, age='31'):\n",
    "            print(\"Employee name is {0} and age is {1}\".format(name,age))"
   ]
  },
  {
   "cell_type": "code",
   "execution_count": 2,
   "metadata": {},
   "outputs": [
    {
     "name": "stdout",
     "output_type": "stream",
     "text": [
      "Employee name is Robert and age is 31\n"
     ]
    }
   ],
   "source": [
    "PrintEmployee_Info('Robert')"
   ]
  },
  {
   "cell_type": "code",
   "execution_count": 3,
   "metadata": {},
   "outputs": [
    {
     "name": "stdout",
     "output_type": "stream",
     "text": [
      "Employee name is Robert and age is 52\n"
     ]
    }
   ],
   "source": [
    "PrintEmployee_Info('Robert',52)"
   ]
  },
  {
   "cell_type": "markdown",
   "metadata": {},
   "source": [
    "### 3. Also, both the positional and keyword arguments can also be declared as below.\n",
    "\n",
    "      def PrintEmployee_Info(*args, **kwargs):\n",
    "          print(args)\n",
    "          print(kwargs)        \n",
    "\n",
    "     So, prefixing of one star \"*\" before the positional arg is required and in same way \n",
    "         prefixing of two stars \"**\" before the keyword arg is required.\n",
    "     So, that the interpreter can easily differentiate b/w the two kinds of args.\n",
    "\n",
    "     Calling the method:\n",
    "            PrintEmployee_Info('Robert','Drowney','Jr',age=52, sex='male')\n",
    "      Here, interpreter, treats all the args which has no default values as positional args and args with default values as \n",
    "      keyword args"
   ]
  },
  {
   "cell_type": "code",
   "execution_count": 4,
   "metadata": {},
   "outputs": [],
   "source": [
    "def PrintEmployee_Info(*args, **kwargs):\n",
    "          print(args)\n",
    "          print(kwargs)        "
   ]
  },
  {
   "cell_type": "code",
   "execution_count": 5,
   "metadata": {},
   "outputs": [
    {
     "name": "stdout",
     "output_type": "stream",
     "text": [
      "('Robert', 'Drowney', 'Jr')\n",
      "{'age': 52, 'sex': 'male'}\n"
     ]
    }
   ],
   "source": [
    "PrintEmployee_Info('Robert','Drowney','Jr',age=52, sex='male')"
   ]
  },
  {
   "cell_type": "markdown",
   "metadata": {},
   "source": [
    "#### When passing objs as args then, need to use proper star prefixes..like below, else it treats all the args as positional args."
   ]
  },
  {
   "cell_type": "code",
   "execution_count": 8,
   "metadata": {},
   "outputs": [
    {
     "name": "stdout",
     "output_type": "stream",
     "text": [
      "(['Robert', 'Drowney', 'Jr'], {'age': 52, 'sex': 'male'})\n",
      "{}\n"
     ]
    }
   ],
   "source": [
    "lst=['Robert','Drowney','Jr']\n",
    "kdict={'age':52, 'sex':'male'}\n",
    "PrintEmployee_Info(lst,kdict)"
   ]
  },
  {
   "cell_type": "markdown",
   "metadata": {},
   "source": [
    "#### So, prefixing resolves the above issue."
   ]
  },
  {
   "cell_type": "code",
   "execution_count": 9,
   "metadata": {},
   "outputs": [
    {
     "name": "stdout",
     "output_type": "stream",
     "text": [
      "('Robert', 'Drowney', 'Jr')\n",
      "{'age': 52, 'sex': 'male'}\n"
     ]
    }
   ],
   "source": [
    "PrintEmployee_Info(*lst,**kdict)"
   ]
  },
  {
   "cell_type": "code",
   "execution_count": null,
   "metadata": {},
   "outputs": [],
   "source": [
    "# A function can return multiple values as well as shown below.."
   ]
  },
  {
   "cell_type": "code",
   "execution_count": 12,
   "metadata": {},
   "outputs": [],
   "source": [
    "# ex 1:\n",
    "def even_odd_sum(arg):\n",
    "    even_sum=0\n",
    "    odd_sum=0\n",
    "    for num in arg:\n",
    "        if num%2==0:\n",
    "            even_sum+=num\n",
    "        else:\n",
    "            odd_sum+=num\n",
    "    return (even_sum,odd_sum)\n"
   ]
  },
  {
   "cell_type": "code",
   "execution_count": 13,
   "metadata": {},
   "outputs": [],
   "source": [
    "resultLst=even_odd_sum([1,2,3,4,5,6,7])"
   ]
  },
  {
   "cell_type": "code",
   "execution_count": 14,
   "metadata": {},
   "outputs": [
    {
     "data": {
      "text/plain": [
       "(12, 16)"
      ]
     },
     "execution_count": 14,
     "metadata": {},
     "output_type": "execute_result"
    }
   ],
   "source": [
    "resultLst"
   ]
  },
  {
   "cell_type": "code",
   "execution_count": 30,
   "metadata": {},
   "outputs": [],
   "source": [
    "# explained later after 13 tutorials..or psv1-Python-Basics,DataStructures,OOPS- Part2.ipynb..\n",
    "class Employee:\n",
    "    ID=0\n",
    "    Name=''\n",
    "    \n",
    "    def __init__(this,idx,name):\n",
    "        this.ID=idx\n",
    "        this.Name=name"
   ]
  },
  {
   "cell_type": "code",
   "execution_count": 31,
   "metadata": {},
   "outputs": [],
   "source": [
    "# ex 2:\n",
    "def a_method_which_returns_multi_objs(strObj,intObj,Obj):\n",
    "    return strObj,intObj,Obj\n"
   ]
  },
  {
   "cell_type": "code",
   "execution_count": 33,
   "metadata": {},
   "outputs": [
    {
     "data": {
      "text/plain": [
       "('Hello string', 64, <__main__.Employee at 0x1f5744efcc0>)"
      ]
     },
     "execution_count": 33,
     "metadata": {},
     "output_type": "execute_result"
    }
   ],
   "source": [
    "emp=Employee(53,'Angelina Jolie')\n",
    "resultObj=a_method_which_returns_multi_objs('Hello string',64,emp)\n",
    "resultObj"
   ]
  },
  {
   "cell_type": "code",
   "execution_count": 37,
   "metadata": {},
   "outputs": [
    {
     "data": {
      "text/plain": [
       "'Hello string'"
      ]
     },
     "execution_count": 37,
     "metadata": {},
     "output_type": "execute_result"
    }
   ],
   "source": [
    "resultObj[0]"
   ]
  },
  {
   "cell_type": "code",
   "execution_count": 35,
   "metadata": {},
   "outputs": [
    {
     "data": {
      "text/plain": [
       "53"
      ]
     },
     "execution_count": 35,
     "metadata": {},
     "output_type": "execute_result"
    }
   ],
   "source": [
    "resultObj[2].ID"
   ]
  },
  {
   "cell_type": "code",
   "execution_count": 36,
   "metadata": {},
   "outputs": [
    {
     "data": {
      "text/plain": [
       "'Angelina Jolie'"
      ]
     },
     "execution_count": 36,
     "metadata": {},
     "output_type": "execute_result"
    }
   ],
   "source": [
    "resultObj[2].Name"
   ]
  }
 ],
 "metadata": {
  "kernelspec": {
   "display_name": "Python 3",
   "language": "python",
   "name": "python3"
  },
  "language_info": {
   "codemirror_mode": {
    "name": "ipython",
    "version": 3
   },
   "file_extension": ".py",
   "mimetype": "text/x-python",
   "name": "python",
   "nbconvert_exporter": "python",
   "pygments_lexer": "ipython3",
   "version": "3.7.1"
  }
 },
 "nbformat": 4,
 "nbformat_minor": 2
}
