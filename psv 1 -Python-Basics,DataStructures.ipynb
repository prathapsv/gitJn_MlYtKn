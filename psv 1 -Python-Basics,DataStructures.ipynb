{
 "cells": [
  {
   "cell_type": "markdown",
   "metadata": {},
   "source": [
    "# # Basics (Types,Conditional statements, Datatypes, Math Ops etc)"
   ]
  },
  {
   "cell_type": "code",
   "execution_count": 2,
   "metadata": {},
   "outputs": [
    {
     "name": "stdout",
     "output_type": "stream",
     "text": [
      "1.0\n",
      "0.5\n",
      "True\n",
      "1.6666666666666667\n",
      "True\n",
      "False\n",
      "True\n",
      "False\n",
      "False\n",
      "True\n"
     ]
    }
   ],
   "source": [
    "a=2 \n",
    "print(a/2)\n",
    "a='str'\n",
    "#print(a/2)\n",
    "a=True\n",
    "print(a/2)\n",
    "print(a)\n",
    "print((3+2)/3)\n",
    "print(True or False)\n",
    "print(True and False)\n",
    "print(True and True)\n",
    "print(False and False)\n",
    "print(False or False)\n",
    "print(True or True)\n"
   ]
  },
  {
   "cell_type": "code",
   "execution_count": 3,
   "metadata": {},
   "outputs": [
    {
     "name": "stdout",
     "output_type": "stream",
     "text": [
      "b is divisible by 5\n",
      "in first block\n",
      "b value is 25\n",
      "c value is 5\n"
     ]
    }
   ],
   "source": [
    "# Conditional Statements (syntax)\n",
    "b=25\n",
    "c=5\n",
    "if b%5==0:\n",
    "    print('b is divisible by 5')\n",
    "    print('in first block')\n",
    "    if b==25: # nested blocks ex..\n",
    "        print('b value is 25')\n",
    "        if c==5:\n",
    "            print('c value is 5')\n",
    "elif b%6==0:\n",
    "    print('b is divisible by 6')\n",
    "else:\n",
    "    print('b is not divisible by either 5 or 6')\n",
    "    \n"
   ]
  },
  {
   "cell_type": "code",
   "execution_count": 4,
   "metadata": {},
   "outputs": [
    {
     "name": "stdout",
     "output_type": "stream",
     "text": [
      "[1, 2, 3, 4, 5, 6, 7, 8, 9, 10, 11, 12, 13, 14, 15, 16, 17, 18, 19, 20]\n",
      "10\n",
      "[10, 11, 12, 13, 14, 15, 16, 17, 18, 19, 20]\n"
     ]
    }
   ],
   "source": [
    "# for loops\n",
    "list1=list()\n",
    "for item in range(1,21):\n",
    "    list1.append(item)\n",
    "print(list1)\n",
    "print(len(list1)-10)\n",
    "for item in range(1,len(list1)-10):\n",
    "    list1.remove(item)\n",
    "\n",
    "print(list1)"
   ]
  },
  {
   "cell_type": "markdown",
   "metadata": {},
   "source": [
    "### Implicit and Explicit Conversions"
   ]
  },
  {
   "cell_type": "code",
   "execution_count": 5,
   "metadata": {},
   "outputs": [
    {
     "name": "stdout",
     "output_type": "stream",
     "text": [
      "Data type of num_int: <class 'int'>\n",
      "Data type of num_str: <class 'str'>\n",
      "Hence, implicit conversions are not supported in Python, so using below explicit conversions to achieve the same\n"
     ]
    },
    {
     "ename": "TypeError",
     "evalue": "unsupported operand type(s) for +: 'int' and 'str'",
     "output_type": "error",
     "traceback": [
      "\u001b[1;31m---------------------------------------------------------------------------\u001b[0m",
      "\u001b[1;31mTypeError\u001b[0m                                 Traceback (most recent call last)",
      "\u001b[1;32m<ipython-input-5-55c4516a8c20>\u001b[0m in \u001b[0;36m<module>\u001b[1;34m\u001b[0m\n\u001b[0;32m      5\u001b[0m \u001b[0mprint\u001b[0m\u001b[1;33m(\u001b[0m\u001b[1;34m\"Data type of num_str:\"\u001b[0m\u001b[1;33m,\u001b[0m\u001b[0mtype\u001b[0m\u001b[1;33m(\u001b[0m\u001b[0mnum_str\u001b[0m\u001b[1;33m)\u001b[0m\u001b[1;33m)\u001b[0m\u001b[1;33m\u001b[0m\u001b[1;33m\u001b[0m\u001b[0m\n\u001b[0;32m      6\u001b[0m \u001b[0mprint\u001b[0m\u001b[1;33m(\u001b[0m\u001b[1;34m'Hence, implicit conversions are not supported in Python, so using below explicit conversions to achieve the same'\u001b[0m\u001b[1;33m)\u001b[0m\u001b[1;33m\u001b[0m\u001b[1;33m\u001b[0m\u001b[0m\n\u001b[1;32m----> 7\u001b[1;33m \u001b[0mprint\u001b[0m\u001b[1;33m(\u001b[0m\u001b[0mnum_int\u001b[0m\u001b[1;33m+\u001b[0m\u001b[0mnum_str\u001b[0m\u001b[1;33m)\u001b[0m\u001b[1;33m\u001b[0m\u001b[1;33m\u001b[0m\u001b[0m\n\u001b[0m",
      "\u001b[1;31mTypeError\u001b[0m: unsupported operand type(s) for +: 'int' and 'str'"
     ]
    }
   ],
   "source": [
    "num_int = 123\n",
    "num_str = \"456\"\n",
    "\n",
    "print(\"Data type of num_int:\",type(num_int))\n",
    "print(\"Data type of num_str:\",type(num_str))\n",
    "print('Hence, implicit conversions are not supported in Python, so using below explicit conversions to achieve the same')\n",
    "print(num_int+num_str)\n"
   ]
  },
  {
   "cell_type": "code",
   "execution_count": null,
   "metadata": {},
   "outputs": [],
   "source": [
    "# Hence, implicit conversions are not supported in Python, so using below explicit conversions to achieve the same\n",
    "print('Hence, implicit conversions are not supported in Python, so using below explicit conversions to achieve the same')\n",
    "num_int = 123\n",
    "num_str = \"456\"\n",
    "\n",
    "print(\"Data type of num_int:\",type(num_int))\n",
    "print(\"Data type of num_str before Type Casting:\",type(num_str))\n",
    "\n",
    "num_str = int(num_str)\n",
    "print(\"Data type of num_str after Type Casting:\",type(num_str))\n",
    "\n",
    "num_sum = num_int + num_str\n",
    "\n",
    "print(\"Sum of num_int and num_str:\",num_sum)\n",
    "print(\"Data type of the sum:\",type(num_sum))"
   ]
  },
  {
   "cell_type": "code",
   "execution_count": null,
   "metadata": {},
   "outputs": [],
   "source": [
    "# while syntax\n",
    "d=25\n",
    "while d>10:\n",
    "    print('value of d is:'+str(d))\n",
    "    d-=1 #d=d-1 \n"
   ]
  },
  {
   "cell_type": "markdown",
   "metadata": {},
   "source": [
    "# # Lists/Collections (Generic Arrays/Lists)"
   ]
  },
  {
   "cell_type": "code",
   "execution_count": null,
   "metadata": {},
   "outputs": [],
   "source": [
    "ListObj=['stringType2','32','intTYpe2','4.02', 'float types2',4.56782,5002,3652]\n",
    "print(type(ListObj))\n",
    "ListObj2=list()\n",
    "type(ListObj2)\n",
    "ListObj2=['stringType','3','numeric','4.0', 'boolean',True,4.5678,500,365]\n",
    "print(ListObj2[2+1])\n",
    "print(ListObj2[:])\n",
    "print(ListObj2[2:])\n",
    "print(ListObj2[2:5])\n",
    "print(ListObj2.append([\"Robert\",\"Drowney\",66]))\n",
    "print(ListObj2[:])\n",
    "print(ListObj2.insert(2,\"WillSmith\"))\n",
    "print(ListObj2[:])\n",
    "print(ListObj2.append(\"Julia\"))\n",
    "print(ListObj2[:])\n",
    "ListObj2.extend(['Chris','Hemsworth'])\n",
    "print(ListObj2[:])"
   ]
  },
  {
   "cell_type": "code",
   "execution_count": null,
   "metadata": {},
   "outputs": [],
   "source": [
    "newList=list()\n",
    "newList.extend([1,2,3,4,5,6,7])\n",
    "print(newList[:])\n",
    "newList.pop()\n",
    "print(newList[:])\n",
    "newList.pop(0)\n",
    "print(newList[:])\n",
    "print(newList.count(2))\n",
    "print(len(newList))\n",
    "print(newList.index(4,0,999))\n",
    "print(max(newList))\n",
    "print(min(newList))\n",
    "newList[2]=33\n",
    "print(newList[:4])\n",
    "newList2=list()\n",
    "newList2.extend(['rachel','joey','chandler','monica','ross','pheobe'])\n",
    "for x in newList2:\n",
    "    print(x+\"-- printed inside a for loop\")\n"
   ]
  },
  {
   "cell_type": "markdown",
   "metadata": {},
   "source": [
    "# Sets(similar to ordered, unique generic collections)"
   ]
  },
  {
   "cell_type": "code",
   "execution_count": null,
   "metadata": {},
   "outputs": [],
   "source": [
    "print(newList*3)\n",
    "print(newList[:])"
   ]
  },
  {
   "cell_type": "code",
   "execution_count": null,
   "metadata": {},
   "outputs": [],
   "source": [
    "setObj=set()\n",
    "print(type(setObj))\n",
    "print(setObj)\n",
    "setObj={\"Avengers\",\"DoLittle\",\"Tenet\",\"Tenet\",3,3,2,1}\n",
    "print(setObj)\n",
    "print(setObj.add(\"Hulk\"))\n",
    "print(setObj)\n",
    "for x in setObj:\n",
    "    print(x)"
   ]
  },
  {
   "cell_type": "code",
   "execution_count": null,
   "metadata": {
    "scrolled": true
   },
   "outputs": [],
   "source": [
    "setObj2=set()\n",
    "setObj2={\"Avengers\",\"DoLittle\",\"Tenet\",\"Tenet\",\"Hulk2\",3,3,2,1}\n",
    "print(setObj2.difference(setObj))\n",
    "print(setObj2)"
   ]
  },
  {
   "cell_type": "code",
   "execution_count": null,
   "metadata": {},
   "outputs": [],
   "source": [
    "print(setObj2.difference_update(setObj))\n",
    "print(setObj2)"
   ]
  },
  {
   "cell_type": "code",
   "execution_count": null,
   "metadata": {},
   "outputs": [],
   "source": [
    "setObj2.clear()\n",
    "setObj2={\"Avengers\",\"DoLittle\",\"Tenet\",\"Tenet\",\"Hulk2\",3,3,2,1}\n",
    "print(setObj2.intersection(setObj))\n",
    "print(setObj2)"
   ]
  },
  {
   "cell_type": "code",
   "execution_count": null,
   "metadata": {},
   "outputs": [],
   "source": [
    "print(setObj2.intersection_update(setObj))\n",
    "print(setObj2)"
   ]
  },
  {
   "cell_type": "code",
   "execution_count": null,
   "metadata": {},
   "outputs": [],
   "source": [
    "setObj3={\"Avengers\",\"DoLittle\",\"Tenet\",\"Tenet\",\"Hulk2\",3,3,2,1}\n",
    "print(setObj3)\n",
    "print(setObj2.symmetric_difference(setObj3))"
   ]
  },
  {
   "cell_type": "markdown",
   "metadata": {},
   "source": [
    "# # Dictionaries (similar to .net and generic in nature)"
   ]
  },
  {
   "cell_type": "code",
   "execution_count": null,
   "metadata": {
    "scrolled": true
   },
   "outputs": [],
   "source": [
    "dictObj=dict()\n",
    "print(type(dictObj))\n",
    "dictObj={\"jeremy\":'male','julia':'female','chris':23,'AvengersHitMovie':True}\n",
    "print(dictObj)\n",
    "print(dictObj.get('julia'))\n",
    "print(dictObj.keys())\n",
    "for x in dictObj:\n",
    "    print(x+\" in a loop\")\n",
    "print(dictObj.items())\n",
    "print(dictObj.values())\n",
    "\n",
    "print(dictObj.update({'julia':33}))\n",
    "print(dictObj.update({'mark':35}))\n",
    "print(dictObj)\n",
    "print('---------------------------------------remvoing of items------------------------------------------')\n",
    "print(dictObj.popitem())\n",
    "print(dictObj)\n",
    "print(dictObj.pop('jeremy'))\n",
    "print(dictObj)\n",
    "dictObj.setdefault('will smith', 55)\n",
    "print(dictObj)\n",
    "print(dictObj['will smith'])\n",
    "print(dictObj)"
   ]
  },
  {
   "cell_type": "code",
   "execution_count": null,
   "metadata": {},
   "outputs": [],
   "source": [
    "print(dictObj)\n",
    "for x in dictObj.items():\n",
    "    print(x)\n",
    "dictObj['Car1']=\"Mercedes\"\n",
    "print(dictObj)"
   ]
  },
  {
   "cell_type": "markdown",
   "metadata": {},
   "source": [
    "# Nested Dict: "
   ]
  },
  {
   "cell_type": "code",
   "execution_count": null,
   "metadata": {},
   "outputs": [],
   "source": [
    "normalDict=dict()\n",
    "normalDict={'Car1':'Benz','Car2':'Audi','Car3':'BMW'}\n",
    "print(normalDict)\n",
    "nestedDict1={'Benz':1960,}\n",
    "nestedDict2={'Audi':1980,}\n",
    "nestedDict3={'BMW':1990,}\n",
    "normalDict={'Car1':nestedDict1,'Car2':nestedDict2,'Car3':nestedDict3}\n",
    "print(normalDict['Car2'])\n",
    "print(normalDict['Car2']['Audi'])\n",
    "normalDict['Car3']={'Kia':2019,}\n",
    "print(normalDict)\n",
    "normalDict['Car3']['Kia']=2020\n",
    "print(normalDict)"
   ]
  },
  {
   "cell_type": "markdown",
   "metadata": {},
   "source": [
    "# Tuples ( a simple generic data structure)"
   ]
  },
  {
   "cell_type": "code",
   "execution_count": null,
   "metadata": {},
   "outputs": [],
   "source": [
    "tupleObj=tuple()\n",
    "print(type(tupleObj))\n",
    "print(tupleObj)\n"
   ]
  },
  {
   "cell_type": "code",
   "execution_count": null,
   "metadata": {},
   "outputs": [],
   "source": [
    "tupleObj=(\"Marvel\",\"DC\",\"WB\")\n",
    "print(tupleObj)\n",
    "print(tupleObj[0])\n",
    "# tupleObj[0]='Pirates Of Carribean' # not possible, since elements of tuple/dict/set are immutable but tuple/set/dict,\n",
    "# itself is mutable.\n",
    "tupleObj=('Avatar','Interstellar','Inception','Interstellar',5.5369)\n",
    "print(tupleObj)\n",
    "print(tupleObj.count('Interstellar'))\n",
    "print(tupleObj.index('Avatar'))\n",
    "\n",
    "for x in tupleObj:\n",
    "    print(x)"
   ]
  },
  {
   "cell_type": "code",
   "execution_count": null,
   "metadata": {},
   "outputs": [],
   "source": [
    "tup"
   ]
  }
 ],
 "metadata": {
  "kernelspec": {
   "display_name": "Python 3",
   "language": "python",
   "name": "python3"
  },
  "language_info": {
   "codemirror_mode": {
    "name": "ipython",
    "version": 3
   },
   "file_extension": ".py",
   "mimetype": "text/x-python",
   "name": "python",
   "nbconvert_exporter": "python",
   "pygments_lexer": "ipython3",
   "version": "3.7.1"
  }
 },
 "nbformat": 4,
 "nbformat_minor": 2
}
